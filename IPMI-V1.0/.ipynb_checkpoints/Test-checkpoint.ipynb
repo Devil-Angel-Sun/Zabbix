{
 "cells": [
  {
   "cell_type": "markdown",
   "metadata": {},
   "source": [
    "### 分散运行顺序"
   ]
  },
  {
   "cell_type": "code",
   "execution_count": 1,
   "metadata": {},
   "outputs": [],
   "source": [
    "%run create_ipmi.py"
   ]
  },
  {
   "cell_type": "code",
   "execution_count": 2,
   "metadata": {},
   "outputs": [],
   "source": [
    "%run creat_host.py"
   ]
  },
  {
   "cell_type": "code",
   "execution_count": 4,
   "metadata": {},
   "outputs": [],
   "source": [
    "%run push_template.py"
   ]
  },
  {
   "cell_type": "code",
   "execution_count": 4,
   "metadata": {},
   "outputs": [
    {
     "name": "stdout",
     "output_type": "stream",
     "text": [
      "./templates_xml/ipmi_get.xml\n",
      "./templates_xml/host.xml\n",
      "当前时刻：1619433544.3089547\n",
      "延迟运行2 minute分钟\n",
      "{'10438': '192.168.50.20', '10439': '192.168.50.22', '10440': '192.168.50.23', '10441': '192.168.50.11'}\n"
     ]
    }
   ],
   "source": [
    "%run get_information.py"
   ]
  },
  {
   "cell_type": "code",
   "execution_count": 5,
   "metadata": {},
   "outputs": [
    {
     "data": {
      "text/plain": [
       "['./host_json/10438_192.168.50.20.json',\n",
       " './host_json/10439_192.168.50.22.json',\n",
       " './host_json/10440_192.168.50.23.json',\n",
       " './host_json/10441_192.168.50.11.json']"
      ]
     },
     "execution_count": 5,
     "metadata": {},
     "output_type": "execute_result"
    }
   ],
   "source": [
    "from create_template import Create_Template\n",
    "import glob\n",
    "data = glob.glob('./host_json/*.json')\n",
    "data"
   ]
  },
  {
   "cell_type": "code",
   "execution_count": 6,
   "metadata": {},
   "outputs": [],
   "source": [
    "for i in data:\n",
    "    ct = Create_Template(i)\n",
    "    ct.create_xml()"
   ]
  },
  {
   "cell_type": "code",
   "execution_count": 7,
   "metadata": {},
   "outputs": [
    {
     "name": "stdout",
     "output_type": "stream",
     "text": [
      "./templates_xml/ipmi_get.xml\n",
      "./templates_xml/host.xml\n",
      "./templates_xml/10438_192.168.50.20.xml\n",
      "./templates_xml/10439_192.168.50.22.xml\n",
      "./templates_xml/10440_192.168.50.23.xml\n",
      "./templates_xml/10441_192.168.50.11.xml\n"
     ]
    }
   ],
   "source": [
    "%run push_template.py"
   ]
  },
  {
   "cell_type": "code",
   "execution_count": 8,
   "metadata": {},
   "outputs": [],
   "source": [
    "%run link_template.py"
   ]
  },
  {
   "cell_type": "markdown",
   "metadata": {},
   "source": [
    "### 完整顺序"
   ]
  },
  {
   "cell_type": "code",
   "execution_count": 1,
   "metadata": {},
   "outputs": [
    {
     "name": "stdout",
     "output_type": "stream",
     "text": [
      "./templates_xml/host.xml\n",
      "./templates_xml/ipmi_get.xml\n",
      "当前时刻：1619496108.2644157\n",
      "延迟运行2 minute分钟\n",
      "{'10508': '192.168.50.20', '10509': '192.168.50.22', '10510': '192.168.50.23', '10511': '192.168.50.11'}\n",
      "错误信息： 192.168.50.11获取不到ipmi信息\n",
      "./templates_xml/host.xml\n",
      "./templates_xml/ipmi_get.xml\n",
      "./templates_xml/10508_192.168.50.20.xml\n",
      "./templates_xml/10509_192.168.50.22.xml\n",
      "./templates_xml/10510_192.168.50.23.xml\n"
     ]
    }
   ],
   "source": [
    "%run main.py --excel_path './host.xlsx' --html 'http://192.168.50.100:18080'"
   ]
  },
  {
   "cell_type": "code",
   "execution_count": null,
   "metadata": {},
   "outputs": [],
   "source": []
  }
 ],
 "metadata": {
  "kernelspec": {
   "display_name": "Python 3",
   "language": "python",
   "name": "python3"
  },
  "language_info": {
   "codemirror_mode": {
    "name": "ipython",
    "version": 3
   },
   "file_extension": ".py",
   "mimetype": "text/x-python",
   "name": "python",
   "nbconvert_exporter": "python",
   "pygments_lexer": "ipython3",
   "version": "3.7.6"
  }
 },
 "nbformat": 4,
 "nbformat_minor": 4
}
